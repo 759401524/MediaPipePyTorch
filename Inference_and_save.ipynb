{
 "cells": [
  {
   "cell_type": "markdown",
   "metadata": {},
   "source": [
    "# Making predictions with BlazeFace\n",
    "\n",
    "This notebook shows how to use the model for face detection."
   ]
  },
  {
   "cell_type": "code",
   "execution_count": 1,
   "metadata": {},
   "outputs": [],
   "source": [
    "%matplotlib inline\n",
    "import matplotlib.pyplot as plt"
   ]
  },
  {
   "cell_type": "code",
   "execution_count": 2,
   "metadata": {},
   "outputs": [],
   "source": [
    "import numpy as np\n",
    "import torch\n",
    "import cv2\n",
    "\n",
    "from blazebase import resize_pad, denormalize_detections\n",
    "from blazepose import BlazePose\n",
    "from blazepose_landmark import BlazePoseLandmark\n",
    "from blazeface import BlazeFace\n",
    "from blazepalm import BlazePalm\n",
    "from blazeface_landmark import BlazeFaceLandmark\n",
    "from blazehand_landmark import BlazeHandLandmark\n",
    "\n",
    "from visualization import draw_detections, draw_landmarks, draw_roi, POSE_CONNECTIONS,HAND_CONNECTIONS\n"
   ]
  },
  {
   "cell_type": "code",
   "execution_count": 3,
   "metadata": {},
   "outputs": [
    {
     "name": "stdout",
     "output_type": "stream",
     "text": [
      "PyTorch version: 1.6.0\n",
      "CUDA version: 10.2\n",
      "cuDNN version: 7605\n"
     ]
    }
   ],
   "source": [
    "print(\"PyTorch version:\", torch.__version__)\n",
    "print(\"CUDA version:\", torch.version.cuda)\n",
    "print(\"cuDNN version:\", torch.backends.cudnn.version())"
   ]
  },
  {
   "cell_type": "code",
   "execution_count": 4,
   "metadata": {},
   "outputs": [
    {
     "data": {
      "text/plain": [
       "device(type='cuda', index=0)"
      ]
     },
     "execution_count": 4,
     "metadata": {},
     "output_type": "execute_result"
    }
   ],
   "source": [
    "gpu = torch.device(\"cuda:0\" if torch.cuda.is_available() else \"cpu\")\n",
    "gpu"
   ]
  },
  {
   "cell_type": "markdown",
   "metadata": {},
   "source": [
    "## Load the model"
   ]
  },
  {
   "cell_type": "code",
   "execution_count": 6,
   "metadata": {},
   "outputs": [],
   "source": [
    "face_detector = BlazeFace().to(gpu)\n",
    "face_detector.load_weights(\"blazeface.pth\")\n",
    "face_detector.load_anchors(\"anchors_face.npy\")\n",
    "\n",
    "torch.onnx.export(\n",
    "    face_detector, \n",
    "    (torch.randn(1,3,128,128, device='cuda'), ), \n",
    "    \"blazeface.onnx\",\n",
    "    input_names=(\"input\", ),\n",
    "    output_names=(\"preds\", \"conf\"),\n",
    "    opset_version=10\n",
    ")"
   ]
  },
  {
   "cell_type": "code",
   "execution_count": 7,
   "metadata": {},
   "outputs": [],
   "source": [
    "palm_detector = BlazePalm().to(gpu)\n",
    "palm_detector.load_weights(\"blazepalm.pth\")\n",
    "palm_detector.load_anchors(\"anchors_palm.npy\")\n",
    "palm_detector.min_score_thresh = .75\n",
    "\n",
    "torch.onnx.export(\n",
    "    palm_detector, \n",
    "    (torch.randn(1,3,256,256, device='cuda'), ), \n",
    "    \"blazepalm.onnx\",\n",
    "    input_names=(\"input\", ),\n",
    "    output_names=(\"preds\", \"conf\"),\n",
    "    opset_version=10\n",
    ")"
   ]
  },
  {
   "cell_type": "code",
   "execution_count": 17,
   "metadata": {},
   "outputs": [
    {
     "name": "stderr",
     "output_type": "stream",
     "text": [
      "/home/mulong/codes/Models_Zoo/MediaPipePyTorch/blazehand_landmark.py:90: TracerWarning: Converting a tensor to a Python boolean might cause the trace to be incorrect. We can't record the data flow of Python values, so this value will be treated as a constant in the future. This means that the trace might not generalize to other inputs!\n",
      "  if x.shape[0] == 0:\n",
      "/home/mulong/miniconda3/envs/open_model_zoo/lib/python3.6/site-packages/torch/nn/functional.py:3121: UserWarning: Default upsampling behavior when mode=bilinear is changed to align_corners=False since 0.4.0. Please specify align_corners=True if the old behavior is desired. See the documentation of nn.Upsample for details.\n",
      "  \"See the documentation of nn.Upsample for details.\".format(mode))\n"
     ]
    }
   ],
   "source": [
    "hand_regressor = BlazeHandLandmark().to(gpu)\n",
    "hand_regressor.load_weights(\"blazehand_landmark.pth\")\n",
    "\n",
    "torch.onnx.export(\n",
    "    hand_regressor, \n",
    "    (torch.randn(1,3,256,256, device='cuda'), ), \n",
    "    \"blazehand_landmark.onnx\",\n",
    "    input_names=(\"input\", ),\n",
    "    output_names=(\"hand_conf\", \"handed\",\"landmarks\"),\n",
    "    opset_version=11\n",
    ")"
   ]
  },
  {
   "cell_type": "code",
   "execution_count": 18,
   "metadata": {},
   "outputs": [
    {
     "name": "stderr",
     "output_type": "stream",
     "text": [
      "/home/mulong/codes/Models_Zoo/MediaPipePyTorch/blazeface_landmark.py:65: TracerWarning: Converting a tensor to a Python boolean might cause the trace to be incorrect. We can't record the data flow of Python values, so this value will be treated as a constant in the future. This means that the trace might not generalize to other inputs!\n",
      "  if x.shape[0] == 0:\n"
     ]
    }
   ],
   "source": [
    "face_regressor = BlazeFaceLandmark().to(gpu)\n",
    "face_regressor.load_weights(\"blazeface_landmark.pth\")\n",
    "\n",
    "torch.onnx.export(\n",
    "    face_regressor, \n",
    "    (torch.randn(1,3,192,192, device='cuda'), ), \n",
    "    \"blazeface_landmark.onnx\",\n",
    "    input_names=(\"input\", ),\n",
    "    output_names=(\"face_conf\", \"landmarks\"),\n",
    "    opset_version=10\n",
    ")"
   ]
  },
  {
   "cell_type": "code",
   "execution_count": 20,
   "metadata": {},
   "outputs": [],
   "source": [
    "pose_detector = BlazePose().to(gpu)\n",
    "pose_detector.load_weights(\"blazepose.pth\")\n",
    "pose_detector.load_anchors(\"anchors_pose.npy\")\n",
    "\n",
    "torch.onnx.export(\n",
    "    pose_detector, \n",
    "    (torch.randn(1,3,128,128, device='cuda'), ), \n",
    "    \"blazepose.onnx\",\n",
    "    input_names=(\"input\", ),\n",
    "    output_names=(\"preds\", \"conf\"),\n",
    "    opset_version=10\n",
    ")"
   ]
  },
  {
   "cell_type": "code",
   "execution_count": 22,
   "metadata": {},
   "outputs": [
    {
     "name": "stderr",
     "output_type": "stream",
     "text": [
      "/home/mulong/codes/Models_Zoo/MediaPipePyTorch/blazepose_landmark.py:177: TracerWarning: Converting a tensor to a Python boolean might cause the trace to be incorrect. We can't record the data flow of Python values, so this value will be treated as a constant in the future. This means that the trace might not generalize to other inputs!\n",
      "  if batch == 0:\n",
      "/home/mulong/miniconda3/envs/open_model_zoo/lib/python3.6/site-packages/torch/nn/functional.py:3121: UserWarning: Default upsampling behavior when mode=bilinear is changed to align_corners=False since 0.4.0. Please specify align_corners=True if the old behavior is desired. See the documentation of nn.Upsample for details.\n",
      "  \"See the documentation of nn.Upsample for details.\".format(mode))\n"
     ]
    }
   ],
   "source": [
    "pose_regressor = BlazePoseLandmark().to(gpu)\n",
    "pose_regressor.load_weights(\"blazepose_landmark.pth\")\n",
    "\n",
    "torch.onnx.export(\n",
    "    pose_regressor, \n",
    "    (torch.randn(1,3,256,256, device='cuda'), ), \n",
    "    \"blazepose_landmark.onnx\",\n",
    "    input_names=(\"image\", ),\n",
    "    output_names=(\"flag\", \"landmarks\",\"seg\"),\n",
    "    opset_version=11\n",
    ")"
   ]
  },
  {
   "cell_type": "markdown",
   "metadata": {},
   "source": [
    "## Make a prediction\n",
    "\n",
    "The input image should be 64x64. BlazeFace will not automatically resize the image, you have to do this yourself!"
   ]
  },
  {
   "cell_type": "code",
   "execution_count": null,
   "metadata": {},
   "outputs": [],
   "source": [
    "WINDOW='test'\n",
    "cv2.namedWindow(WINDOW)\n",
    "capture = cv2.VideoCapture(0)\n",
    "\n",
    "if capture.isOpened():\n",
    "    hasFrame, frame = capture.read()\n",
    "    frame_ct = 0\n",
    "else:\n",
    "    hasFrame = False\n",
    "\n",
    "while hasFrame:\n",
    "    frame_ct +=1\n",
    "\n",
    "    frame = np.ascontiguousarray(frame[:,::-1,::-1])\n",
    "\n",
    "    img1, img2, scale, pad = resize_pad(frame)\n",
    "\n",
    "    normalized_face_detections = face_detector.predict_on_image(img2)\n",
    "    normalized_palm_detections = palm_detector.predict_on_image(img1)\n",
    "\n",
    "    face_detections = denormalize_detections(normalized_face_detections, scale, pad)\n",
    "    palm_detections = denormalize_detections(normalized_palm_detections, scale, pad)\n",
    "\n",
    "\n",
    "    xc, yc, scale, theta = face_detector.detection2roi(face_detections)\n",
    "    img, affine, box = face_regressor.extract_roi(frame, xc, yc, theta, scale)\n",
    "    flags, normalized_landmarks = face_regressor(img)\n",
    "    landmarks = face_regressor.denormalize_landmarks(normalized_landmarks, affine)\n",
    "\n",
    "\n",
    "    xc, yc, scale, theta = palm_detector.detection2roi(palm_detections)\n",
    "    img, affine2, box2 = hand_regressor.extract_roi(frame, xc, yc, theta, scale)\n",
    "    flags2, handed2, normalized_landmarks2 = hand_regressor(img)\n",
    "    landmarks2 = hand_regressor.denormalize_landmarks(normalized_landmarks2, affine2)\n",
    "    \n",
    "\n",
    "    for i in range(len(flags)):\n",
    "        landmark, flag = landmarks[i], flags[i]\n",
    "        if flag>.5:\n",
    "            draw_landmarks(frame, landmark[:,:2], size=1)\n",
    "\n",
    "\n",
    "    for i in range(len(flags2)):\n",
    "        landmark, flag = landmarks2[i], flags2[i]\n",
    "        if flag>.5:\n",
    "            draw_landmarks(frame, landmark[:,:2], HAND_CONNECTIONS, size=2)\n",
    "\n",
    "    draw_roi(frame, box)\n",
    "    draw_roi(frame, box2)\n",
    "    draw_detections(frame, face_detections)\n",
    "    draw_detections(frame, palm_detections)\n",
    "\n",
    "    cv2.imshow(WINDOW, frame[:,:,::-1])\n",
    "    # cv2.imwrite('sample/%04d.jpg'%frame_ct, frame[:,:,::-1])\n",
    "\n",
    "    hasFrame, frame = capture.read()\n",
    "    key = cv2.waitKey(1)\n",
    "    if key == 27:\n",
    "        break\n",
    "\n",
    "capture.release()\n",
    "cv2.destroyAllWindows()"
   ]
  },
  {
   "cell_type": "code",
   "execution_count": 6,
   "metadata": {},
   "outputs": [],
   "source": [
    "img = cv2.imread(\"test_eye.jpg\")\n",
    "img = cv2.cvtColor(img, cv2.COLOR_BGR2RGB)\n",
    "img = cv2.resize(img, (64, 64))"
   ]
  },
  {
   "cell_type": "code",
   "execution_count": 8,
   "metadata": {},
   "outputs": [
    {
     "name": "stdout",
     "output_type": "stream",
     "text": [
      "(1, 71, 3)\n"
     ]
    },
    {
     "data": {
      "text/plain": [
       "(1, 5, 3)"
      ]
     },
     "execution_count": 8,
     "metadata": {},
     "output_type": "execute_result"
    }
   ],
   "source": [
    "eye_gpu, iris_gpu = net.predict_on_image(img)\n",
    "eye = eye_gpu.cpu().numpy()\n",
    "iris = iris_gpu.cpu().numpy()\n",
    "print(eye.shape)\n",
    "iris.shape"
   ]
  },
  {
   "cell_type": "code",
   "execution_count": 9,
   "metadata": {},
   "outputs": [
    {
     "data": {
      "image/png": "[encoded data removed]",
      "text/plain": [
       "<Figure size 432x288 with 1 Axes>"
      ]
     },
     "metadata": {
      "needs_background": "light"
     },
     "output_type": "display_data"
    }
   ],
   "source": [
    "plt.imshow(img, zorder=1)\n",
    "x, y = iris[:, :, 0], iris[:, :, 1]\n",
    "plt.scatter(x, y, zorder=2, s=1.0)\n",
    "plt.show()"
   ]
  },
  {
   "cell_type": "markdown",
   "metadata": {},
   "source": [
    "Let's convert model to ONNX format"
   ]
  },
  {
   "cell_type": "code",
   "execution_count": 11,
   "metadata": {},
   "outputs": [],
   "source": [
    "torch.onnx.export(\n",
    "    net, \n",
    "    (torch.randn(1,3,64,64, device='cuda'), ), \n",
    "    \"irislandmarks.onnx\",\n",
    "    input_names=(\"image\", ),\n",
    "    output_names=(\"preds\", \"conf\"),\n",
    "    opset_version=10\n",
    ")"
   ]
  },
  {
   "cell_type": "code",
   "execution_count": null,
   "metadata": {},
   "outputs": [],
   "source": []
  }
 ],
 "metadata": {
  "kernelspec": {
   "display_name": "Python 3",
   "language": "python",
   "name": "python3"
  },
  "language_info": {
   "codemirror_mode": {
    "name": "ipython",
    "version": 3
   },
   "file_extension": ".py",
   "mimetype": "text/x-python",
   "name": "python",
   "nbconvert_exporter": "python",
   "pygments_lexer": "ipython3",
   "version": "3.6.12"
  }
 },
 "nbformat": 4,
 "nbformat_minor": 2
}
